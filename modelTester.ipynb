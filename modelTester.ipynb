{
 "cells": [
  {
   "cell_type": "code",
   "execution_count": 1,
   "metadata": {},
   "outputs": [
    {
     "name": "stderr",
     "output_type": "stream",
     "text": [
      "Using TensorFlow backend.\n"
     ]
    }
   ],
   "source": [
    "from keras.models import load_model\n",
    "from sklearn.preprocessing import StandardScaler\n",
    "import numpy as np\n",
    "import pandas as pd"
   ]
  },
  {
   "cell_type": "code",
   "execution_count": 2,
   "metadata": {},
   "outputs": [],
   "source": [
    "model = load_model('TEST_93.h5')"
   ]
  },
  {
   "cell_type": "code",
   "execution_count": 7,
   "metadata": {},
   "outputs": [],
   "source": [
    "testdata = pd.read_csv(\"test.csv\")"
   ]
  },
  {
   "cell_type": "code",
   "execution_count": 4,
   "metadata": {},
   "outputs": [
    {
     "data": {
      "text/html": [
       "<div>\n",
       "<style scoped>\n",
       "    .dataframe tbody tr th:only-of-type {\n",
       "        vertical-align: middle;\n",
       "    }\n",
       "\n",
       "    .dataframe tbody tr th {\n",
       "        vertical-align: top;\n",
       "    }\n",
       "\n",
       "    .dataframe thead th {\n",
       "        text-align: right;\n",
       "    }\n",
       "</style>\n",
       "<table border=\"1\" class=\"dataframe\">\n",
       "  <thead>\n",
       "    <tr style=\"text-align: right;\">\n",
       "      <th></th>\n",
       "      <th>Safety_Score</th>\n",
       "      <th>Days_Since_Inspection</th>\n",
       "      <th>Total_Safety_Complaints</th>\n",
       "      <th>Control_Metric</th>\n",
       "      <th>Turbulence_In_gforces</th>\n",
       "      <th>Cabin_Temperature</th>\n",
       "      <th>Accident_Type_Code</th>\n",
       "      <th>Max_Elevation</th>\n",
       "      <th>Violations</th>\n",
       "      <th>Adverse_Weather_Metric</th>\n",
       "      <th>Accident_ID</th>\n",
       "    </tr>\n",
       "  </thead>\n",
       "  <tbody>\n",
       "    <tr>\n",
       "      <th>0</th>\n",
       "      <td>19.497717</td>\n",
       "      <td>16</td>\n",
       "      <td>6</td>\n",
       "      <td>72.151322</td>\n",
       "      <td>0.388959</td>\n",
       "      <td>78.32</td>\n",
       "      <td>4</td>\n",
       "      <td>37949.724386</td>\n",
       "      <td>2</td>\n",
       "      <td>0.069692</td>\n",
       "      <td>1</td>\n",
       "    </tr>\n",
       "    <tr>\n",
       "      <th>1</th>\n",
       "      <td>58.173516</td>\n",
       "      <td>15</td>\n",
       "      <td>3</td>\n",
       "      <td>64.585232</td>\n",
       "      <td>0.250841</td>\n",
       "      <td>78.60</td>\n",
       "      <td>7</td>\n",
       "      <td>30194.805567</td>\n",
       "      <td>2</td>\n",
       "      <td>0.002777</td>\n",
       "      <td>10</td>\n",
       "    </tr>\n",
       "    <tr>\n",
       "      <th>2</th>\n",
       "      <td>33.287671</td>\n",
       "      <td>15</td>\n",
       "      <td>3</td>\n",
       "      <td>64.721969</td>\n",
       "      <td>0.336669</td>\n",
       "      <td>86.96</td>\n",
       "      <td>6</td>\n",
       "      <td>17572.925484</td>\n",
       "      <td>1</td>\n",
       "      <td>0.004316</td>\n",
       "      <td>14</td>\n",
       "    </tr>\n",
       "    <tr>\n",
       "      <th>3</th>\n",
       "      <td>3.287671</td>\n",
       "      <td>21</td>\n",
       "      <td>5</td>\n",
       "      <td>66.362808</td>\n",
       "      <td>0.421775</td>\n",
       "      <td>80.86</td>\n",
       "      <td>3</td>\n",
       "      <td>40209.186341</td>\n",
       "      <td>2</td>\n",
       "      <td>0.199990</td>\n",
       "      <td>17</td>\n",
       "    </tr>\n",
       "    <tr>\n",
       "      <th>4</th>\n",
       "      <td>10.867580</td>\n",
       "      <td>18</td>\n",
       "      <td>2</td>\n",
       "      <td>56.107566</td>\n",
       "      <td>0.313228</td>\n",
       "      <td>79.22</td>\n",
       "      <td>2</td>\n",
       "      <td>35495.525408</td>\n",
       "      <td>2</td>\n",
       "      <td>0.483696</td>\n",
       "      <td>21</td>\n",
       "    </tr>\n",
       "    <tr>\n",
       "      <th>...</th>\n",
       "      <td>...</td>\n",
       "      <td>...</td>\n",
       "      <td>...</td>\n",
       "      <td>...</td>\n",
       "      <td>...</td>\n",
       "      <td>...</td>\n",
       "      <td>...</td>\n",
       "      <td>...</td>\n",
       "      <td>...</td>\n",
       "      <td>...</td>\n",
       "      <td>...</td>\n",
       "    </tr>\n",
       "    <tr>\n",
       "      <th>2495</th>\n",
       "      <td>68.127854</td>\n",
       "      <td>8</td>\n",
       "      <td>11</td>\n",
       "      <td>49.680948</td>\n",
       "      <td>0.470819</td>\n",
       "      <td>77.80</td>\n",
       "      <td>2</td>\n",
       "      <td>48251.586622</td>\n",
       "      <td>2</td>\n",
       "      <td>0.659387</td>\n",
       "      <td>12484</td>\n",
       "    </tr>\n",
       "    <tr>\n",
       "      <th>2496</th>\n",
       "      <td>54.840183</td>\n",
       "      <td>9</td>\n",
       "      <td>9</td>\n",
       "      <td>71.194166</td>\n",
       "      <td>0.417087</td>\n",
       "      <td>79.77</td>\n",
       "      <td>6</td>\n",
       "      <td>20761.984416</td>\n",
       "      <td>1</td>\n",
       "      <td>0.005010</td>\n",
       "      <td>12487</td>\n",
       "    </tr>\n",
       "    <tr>\n",
       "      <th>2497</th>\n",
       "      <td>36.712329</td>\n",
       "      <td>14</td>\n",
       "      <td>10</td>\n",
       "      <td>91.203282</td>\n",
       "      <td>0.313950</td>\n",
       "      <td>83.96</td>\n",
       "      <td>6</td>\n",
       "      <td>36676.100601</td>\n",
       "      <td>2</td>\n",
       "      <td>0.008629</td>\n",
       "      <td>12488</td>\n",
       "    </tr>\n",
       "    <tr>\n",
       "      <th>2498</th>\n",
       "      <td>38.721461</td>\n",
       "      <td>13</td>\n",
       "      <td>14</td>\n",
       "      <td>73.154057</td>\n",
       "      <td>0.275003</td>\n",
       "      <td>77.38</td>\n",
       "      <td>6</td>\n",
       "      <td>24211.359510</td>\n",
       "      <td>1</td>\n",
       "      <td>0.006247</td>\n",
       "      <td>12491</td>\n",
       "    </tr>\n",
       "    <tr>\n",
       "      <th>2499</th>\n",
       "      <td>36.073059</td>\n",
       "      <td>11</td>\n",
       "      <td>1</td>\n",
       "      <td>60.665451</td>\n",
       "      <td>0.256250</td>\n",
       "      <td>84.56</td>\n",
       "      <td>5</td>\n",
       "      <td>35920.146239</td>\n",
       "      <td>0</td>\n",
       "      <td>0.024409</td>\n",
       "      <td>12493</td>\n",
       "    </tr>\n",
       "  </tbody>\n",
       "</table>\n",
       "<p>2500 rows × 11 columns</p>\n",
       "</div>"
      ],
      "text/plain": [
       "      Safety_Score  Days_Since_Inspection  Total_Safety_Complaints  \\\n",
       "0        19.497717                     16                        6   \n",
       "1        58.173516                     15                        3   \n",
       "2        33.287671                     15                        3   \n",
       "3         3.287671                     21                        5   \n",
       "4        10.867580                     18                        2   \n",
       "...            ...                    ...                      ...   \n",
       "2495     68.127854                      8                       11   \n",
       "2496     54.840183                      9                        9   \n",
       "2497     36.712329                     14                       10   \n",
       "2498     38.721461                     13                       14   \n",
       "2499     36.073059                     11                        1   \n",
       "\n",
       "      Control_Metric  Turbulence_In_gforces  Cabin_Temperature  \\\n",
       "0          72.151322               0.388959              78.32   \n",
       "1          64.585232               0.250841              78.60   \n",
       "2          64.721969               0.336669              86.96   \n",
       "3          66.362808               0.421775              80.86   \n",
       "4          56.107566               0.313228              79.22   \n",
       "...              ...                    ...                ...   \n",
       "2495       49.680948               0.470819              77.80   \n",
       "2496       71.194166               0.417087              79.77   \n",
       "2497       91.203282               0.313950              83.96   \n",
       "2498       73.154057               0.275003              77.38   \n",
       "2499       60.665451               0.256250              84.56   \n",
       "\n",
       "      Accident_Type_Code  Max_Elevation  Violations  Adverse_Weather_Metric  \\\n",
       "0                      4   37949.724386           2                0.069692   \n",
       "1                      7   30194.805567           2                0.002777   \n",
       "2                      6   17572.925484           1                0.004316   \n",
       "3                      3   40209.186341           2                0.199990   \n",
       "4                      2   35495.525408           2                0.483696   \n",
       "...                  ...            ...         ...                     ...   \n",
       "2495                   2   48251.586622           2                0.659387   \n",
       "2496                   6   20761.984416           1                0.005010   \n",
       "2497                   6   36676.100601           2                0.008629   \n",
       "2498                   6   24211.359510           1                0.006247   \n",
       "2499                   5   35920.146239           0                0.024409   \n",
       "\n",
       "      Accident_ID  \n",
       "0               1  \n",
       "1              10  \n",
       "2              14  \n",
       "3              17  \n",
       "4              21  \n",
       "...           ...  \n",
       "2495        12484  \n",
       "2496        12487  \n",
       "2497        12488  \n",
       "2498        12491  \n",
       "2499        12493  \n",
       "\n",
       "[2500 rows x 11 columns]"
      ]
     },
     "execution_count": 4,
     "metadata": {},
     "output_type": "execute_result"
    }
   ],
   "source": [
    "testdata"
   ]
  },
  {
   "cell_type": "code",
   "execution_count": 17,
   "metadata": {},
   "outputs": [],
   "source": [
    "scaled_x_tests = StandardScaler().fit(data).fit_transform(data)"
   ]
  },
  {
   "cell_type": "code",
   "execution_count": 9,
   "metadata": {},
   "outputs": [
    {
     "data": {
      "text/plain": [
       "array([[-1.37172708,  0.86684517, -0.08007683, ...,  0.00903388,\n",
       "        -0.46749271, -1.71741171],\n",
       "       [ 1.0043842 ,  0.5829687 , -0.49801438, ...,  0.00903388,\n",
       "        -0.64013842, -1.71491276],\n",
       "       [-0.52451857,  0.5829687 , -0.49801438, ..., -0.97290955,\n",
       "        -0.6361677 , -1.71380212],\n",
       "       ...,\n",
       "       [-0.31411911,  0.29909224,  0.47717323, ...,  0.00903388,\n",
       "        -0.62504098,  1.74974078],\n",
       "       [-0.19068475,  0.01521578,  1.03442329, ..., -0.97290955,\n",
       "        -0.63118784,  1.75057376],\n",
       "       [-0.35339367, -0.55253715, -0.77663941, ..., -1.95485297,\n",
       "        -0.58432719,  1.75112908]])"
      ]
     },
     "execution_count": 9,
     "metadata": {},
     "output_type": "execute_result"
    }
   ],
   "source": [
    "scaled_x_tests"
   ]
  },
  {
   "cell_type": "code",
   "execution_count": 10,
   "metadata": {},
   "outputs": [],
   "source": [
    "total_class = ['Significant_Damage_And_Serious_Injuries',\n",
    " 'Significant_Damage_And_Fatalities',\n",
    " 'Highly_Fatal_And_Damaging',\n",
    " 'Minor_Damage_And_Injuries']"
   ]
  },
  {
   "cell_type": "code",
   "execution_count": 11,
   "metadata": {},
   "outputs": [],
   "source": [
    "classes = {}\n",
    "for x in range(len(total_class)):\n",
    "    classes[x] = total_class[x]"
   ]
  },
  {
   "cell_type": "code",
   "execution_count": 12,
   "metadata": {},
   "outputs": [
    {
     "data": {
      "text/plain": [
       "{0: 'Significant_Damage_And_Serious_Injuries',\n",
       " 1: 'Significant_Damage_And_Fatalities',\n",
       " 2: 'Highly_Fatal_And_Damaging',\n",
       " 3: 'Minor_Damage_And_Injuries'}"
      ]
     },
     "execution_count": 12,
     "metadata": {},
     "output_type": "execute_result"
    }
   ],
   "source": [
    "classes"
   ]
  },
  {
   "cell_type": "code",
   "execution_count": 18,
   "metadata": {},
   "outputs": [
    {
     "ename": "SyntaxError",
     "evalue": "invalid syntax (<ipython-input-18-6766d86fe3b3>, line 4)",
     "output_type": "error",
     "traceback": [
      "\u001b[1;36m  File \u001b[1;32m\"<ipython-input-18-6766d86fe3b3>\"\u001b[1;36m, line \u001b[1;32m4\u001b[0m\n\u001b[1;33m    ids =\u001b[0m\n\u001b[1;37m          ^\u001b[0m\n\u001b[1;31mSyntaxError\u001b[0m\u001b[1;31m:\u001b[0m invalid syntax\n"
     ]
    }
   ],
   "source": [
    "accident = []\n",
    "severity = []\n",
    "for i in range(len(scaled_data)):\n",
    "    ids = "
   ]
  },
  {
   "cell_type": "code",
   "execution_count": 19,
   "metadata": {},
   "outputs": [
    {
     "data": {
      "text/plain": [
       "array([[-1.37172708,  0.86684517, -0.08007683,  0.59295729,  0.10913413,\n",
       "        -0.61661954,  0.07798532,  0.58699497,  0.00903388, -0.46749271,\n",
       "        -1.71741171]])"
      ]
     },
     "execution_count": 19,
     "metadata": {},
     "output_type": "execute_result"
    }
   ],
   "source": [
    "scaled_xdata[0,:].reshape(-1,11)"
   ]
  },
  {
   "cell_type": "code",
   "execution_count": 20,
   "metadata": {},
   "outputs": [],
   "source": [
    "x = model.predict(scaled_xdata[0,:].reshape(-1,11))"
   ]
  },
  {
   "cell_type": "code",
   "execution_count": 21,
   "metadata": {},
   "outputs": [
    {
     "data": {
      "text/plain": [
       "array([[9.9999988e-01, 2.1271905e-16, 3.4867911e-14, 1.1478909e-07]],\n",
       "      dtype=float32)"
      ]
     },
     "execution_count": 21,
     "metadata": {},
     "output_type": "execute_result"
    }
   ],
   "source": [
    "x"
   ]
  },
  {
   "cell_type": "code",
   "execution_count": 22,
   "metadata": {},
   "outputs": [
    {
     "data": {
      "text/plain": [
       "0"
      ]
     },
     "execution_count": 22,
     "metadata": {},
     "output_type": "execute_result"
    }
   ],
   "source": [
    "x.argmax()"
   ]
  },
  {
   "cell_type": "code",
   "execution_count": 23,
   "metadata": {},
   "outputs": [
    {
     "data": {
      "text/plain": [
       "'Significant_Damage_And_Serious_Injuries'"
      ]
     },
     "execution_count": 23,
     "metadata": {},
     "output_type": "execute_result"
    }
   ],
   "source": [
    "classes[x.argmax()]"
   ]
  },
  {
   "cell_type": "code",
   "execution_count": 24,
   "metadata": {},
   "outputs": [
    {
     "data": {
      "text/plain": [
       "-1.7174117092072527"
      ]
     },
     "execution_count": 24,
     "metadata": {},
     "output_type": "execute_result"
    }
   ],
   "source": [
    "scaled_xdata[0,-1]"
   ]
  },
  {
   "cell_type": "code",
   "execution_count": 25,
   "metadata": {},
   "outputs": [],
   "source": [
    "ids  = []\n",
    "output = []\n",
    "for i in range(len(testdata)):\n",
    "    pred_y = model.predict(np.array(scaled_x_tests[i,:]).reshape((-1,11)))\n",
    "    ids.append(testdata.iloc[i,-1])\n",
    "    output.append(classes[pred_y[0].argmax()])"
   ]
  },
  {
   "cell_type": "code",
   "execution_count": 26,
   "metadata": {},
   "outputs": [],
   "source": [
    "final_data = pd.DataFrame({'Accident ID':ids,'Severity':output})"
   ]
  },
  {
   "cell_type": "code",
   "execution_count": 27,
   "metadata": {},
   "outputs": [
    {
     "data": {
      "text/plain": [
       "10"
      ]
     },
     "execution_count": 27,
     "metadata": {},
     "output_type": "execute_result"
    }
   ],
   "source": [
    "final_data.iloc[1,0]"
   ]
  },
  {
   "cell_type": "code",
   "execution_count": 28,
   "metadata": {},
   "outputs": [
    {
     "data": {
      "text/html": [
       "<div>\n",
       "<style scoped>\n",
       "    .dataframe tbody tr th:only-of-type {\n",
       "        vertical-align: middle;\n",
       "    }\n",
       "\n",
       "    .dataframe tbody tr th {\n",
       "        vertical-align: top;\n",
       "    }\n",
       "\n",
       "    .dataframe thead th {\n",
       "        text-align: right;\n",
       "    }\n",
       "</style>\n",
       "<table border=\"1\" class=\"dataframe\">\n",
       "  <thead>\n",
       "    <tr style=\"text-align: right;\">\n",
       "      <th></th>\n",
       "      <th>Accident ID</th>\n",
       "      <th>Severity</th>\n",
       "    </tr>\n",
       "  </thead>\n",
       "  <tbody>\n",
       "    <tr>\n",
       "      <th>0</th>\n",
       "      <td>1</td>\n",
       "      <td>Significant_Damage_And_Serious_Injuries</td>\n",
       "    </tr>\n",
       "    <tr>\n",
       "      <th>1</th>\n",
       "      <td>10</td>\n",
       "      <td>Highly_Fatal_And_Damaging</td>\n",
       "    </tr>\n",
       "    <tr>\n",
       "      <th>2</th>\n",
       "      <td>14</td>\n",
       "      <td>Minor_Damage_And_Injuries</td>\n",
       "    </tr>\n",
       "    <tr>\n",
       "      <th>3</th>\n",
       "      <td>17</td>\n",
       "      <td>Significant_Damage_And_Serious_Injuries</td>\n",
       "    </tr>\n",
       "    <tr>\n",
       "      <th>4</th>\n",
       "      <td>21</td>\n",
       "      <td>Highly_Fatal_And_Damaging</td>\n",
       "    </tr>\n",
       "    <tr>\n",
       "      <th>...</th>\n",
       "      <td>...</td>\n",
       "      <td>...</td>\n",
       "    </tr>\n",
       "    <tr>\n",
       "      <th>2495</th>\n",
       "      <td>12484</td>\n",
       "      <td>Significant_Damage_And_Serious_Injuries</td>\n",
       "    </tr>\n",
       "    <tr>\n",
       "      <th>2496</th>\n",
       "      <td>12487</td>\n",
       "      <td>Minor_Damage_And_Injuries</td>\n",
       "    </tr>\n",
       "    <tr>\n",
       "      <th>2497</th>\n",
       "      <td>12488</td>\n",
       "      <td>Minor_Damage_And_Injuries</td>\n",
       "    </tr>\n",
       "    <tr>\n",
       "      <th>2498</th>\n",
       "      <td>12491</td>\n",
       "      <td>Minor_Damage_And_Injuries</td>\n",
       "    </tr>\n",
       "    <tr>\n",
       "      <th>2499</th>\n",
       "      <td>12493</td>\n",
       "      <td>Significant_Damage_And_Serious_Injuries</td>\n",
       "    </tr>\n",
       "  </tbody>\n",
       "</table>\n",
       "<p>2500 rows × 2 columns</p>\n",
       "</div>"
      ],
      "text/plain": [
       "      Accident ID                                 Severity\n",
       "0               1  Significant_Damage_And_Serious_Injuries\n",
       "1              10                Highly_Fatal_And_Damaging\n",
       "2              14                Minor_Damage_And_Injuries\n",
       "3              17  Significant_Damage_And_Serious_Injuries\n",
       "4              21                Highly_Fatal_And_Damaging\n",
       "...           ...                                      ...\n",
       "2495        12484  Significant_Damage_And_Serious_Injuries\n",
       "2496        12487                Minor_Damage_And_Injuries\n",
       "2497        12488                Minor_Damage_And_Injuries\n",
       "2498        12491                Minor_Damage_And_Injuries\n",
       "2499        12493  Significant_Damage_And_Serious_Injuries\n",
       "\n",
       "[2500 rows x 2 columns]"
      ]
     },
     "execution_count": 28,
     "metadata": {},
     "output_type": "execute_result"
    }
   ],
   "source": [
    "final_data"
   ]
  },
  {
   "cell_type": "code",
   "execution_count": 29,
   "metadata": {},
   "outputs": [],
   "source": [
    "final_data.to_csv('test_submission',index=False)"
   ]
  },
  {
   "cell_type": "code",
   "execution_count": null,
   "metadata": {},
   "outputs": [],
   "source": []
  }
 ],
 "metadata": {
  "kernelspec": {
   "display_name": "Python 3",
   "language": "python",
   "name": "python3"
  },
  "language_info": {
   "codemirror_mode": {
    "name": "ipython",
    "version": 3
   },
   "file_extension": ".py",
   "mimetype": "text/x-python",
   "name": "python",
   "nbconvert_exporter": "python",
   "pygments_lexer": "ipython3",
   "version": "3.7.5"
  }
 },
 "nbformat": 4,
 "nbformat_minor": 2
}
